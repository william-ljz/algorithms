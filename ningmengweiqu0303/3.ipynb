{
 "cells": [
  {
   "cell_type": "markdown",
   "metadata": {},
   "source": [
    "# 题目\n",
    "野猪骑士最近在一条路上锻炼，整条路可以被分作n块地块，每个地块有自己的高度i。野猪骑士在地块i时，会跳向 下标比i大 且 高度比hi严格大的地块的集合中，高度最小的地块。\n",
    "\n",
    "野猪骑士希望知道自己在每个地块上的下一跳的目的地的高度，如果下一跳不存在的话，则记为-1。但这对野猪骑士来说太难了，他希望你来帮助他。"
   ]
  },
  {
   "cell_type": "markdown",
   "metadata": {},
   "source": []
  },
  {
   "cell_type": "markdown",
   "metadata": {},
   "source": [
    "示例 1\n",
    "\n",
    "输入\n",
    "\n",
    "4\n",
    "4 1 2 3\n",
    "\n",
    "输出：\n",
    "\n",
    "-1 2 3 -1\n",
    "\n",
    "示例 2\n",
    "\n",
    "输入\n",
    "\n",
    "7\n",
    "11 13 10 5 12 21 3\n",
    "\n",
    "输出：\n",
    "12 21 12 12 21 -1 -1\n",
    "\n",
    "用map即红黑树，可以查找比当前元素大的最小的元素，同时可以删除。"
   ]
  },
  {
   "cell_type": "code",
   "execution_count": null,
   "metadata": {
    "vscode": {
     "languageId": "plaintext"
    }
   },
   "outputs": [],
   "source": [
    "#include<iostream>\n",
    "#include<map>\n",
    "using namespace std;\n",
    "const int N=1e5+10;\n",
    "int a[N], ans[N];\n",
    "map<int, int>ma;\n",
    "int main()\n",
    "{\n",
    "    int n;\n",
    "    cin.tie(0);\n",
    "    cin>>n;\n",
    "    for(int i=0;i<n;i++)cin>>a[i],ma[a[i]]++;\n",
    "    for(int i=0; i<n ;i++)\n",
    "    {\n",
    "        auto it = ma.upper_bound(a[i]);\n",
    "        if(it!=ma.end())ans[i]=it->first;\n",
    "        else ans[i]=-1;\n",
    "        ma[a[i]]--;\n",
    "        if(ma[a[i]]==0)ma.erase(a[i]);\n",
    "    }\n",
    "    for(int i=0; i<n;i++)cout<<ans[i]<<\" \";\n",
    "    cout<<endl;\n",
    "    return 0;\n",
    "}"
   ]
  }
 ],
 "metadata": {
  "language_info": {
   "name": "python"
  }
 },
 "nbformat": 4,
 "nbformat_minor": 2
}
