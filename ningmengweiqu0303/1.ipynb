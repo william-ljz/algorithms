{
 "cells": [
  {
   "cell_type": "markdown",
   "metadata": {},
   "source": [
    "# 题目\n",
    "给定一个正整数 s 和 n 个正整数 , 求有多少种组合的和为 s ?\n",
    "\n",
    "数值相同的两个数视为不同的两个数。\n",
    "\n",
    "输入描述\n",
    "\n",
    "第一行两个整数 n，s，含义如题所述；\n",
    "\n",
    "第二行 n 个整数。\n",
    "\n",
    "1<=n<=30,1<=s<=900,1<=wi<=s\n",
    "\n",
    "输出描述\n",
    "\n",
    "输出一个整数表示答案。特别地，如果没有合法方案，输出0。"
   ]
  },
  {
   "cell_type": "markdown",
   "metadata": {},
   "source": [
    "示例 1\n",
    "\n",
    "输入\n",
    "\n",
    "10 5 1 1 1 1 1 1 1 1 1 1\n",
    "\n",
    "输出\n",
    "\n",
    "252\n",
    "\n",
    "说明\n",
    "\n",
    "C(10, 5) = 252\n",
    "\n",
    "01背包问题"
   ]
  },
  {
   "cell_type": "code",
   "execution_count": null,
   "metadata": {
    "vscode": {
     "languageId": "plaintext"
    }
   },
   "outputs": [],
   "source": [
    "#include<iostream>\n",
    "using namespace std;\n",
    "int f[32][910];\n",
    "int a[32];\n",
    "int main()\n",
    "{\n",
    "    int n,s;\n",
    "    cin>>n>>s;\n",
    "    for(int i=1; i<=n; i++)\n",
    "        cin>>a[i];\n",
    "    f[0][0] = 1;\n",
    "\n",
    "    for(int i=1; i<=n;i++)\n",
    "        for(int j=0; j<=s; j++)\n",
    "        {\n",
    "            f[i][j] = f[i-1][j];\n",
    "            if(j>=a[i])\n",
    "                  f[i][j] =  f[i][j]+f[i-1][j-a[i]];\n",
    "        }\n",
    "    cout<<f[n][s]<<endl;\n",
    "}\n"
   ]
  }
 ],
 "metadata": {
  "language_info": {
   "name": "python"
  }
 },
 "nbformat": 4,
 "nbformat_minor": 2
}
