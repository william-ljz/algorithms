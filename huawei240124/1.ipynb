{
 "cells": [
  {
   "cell_type": "markdown",
   "metadata": {},
   "source": []
  },
  {
   "cell_type": "markdown",
   "metadata": {},
   "source": [
    "# 题目\n",
    "小明有根绳子，上面穿了很多玻璃球，玻璃球由红绿蓝二种颜色组成，其中红色球1分，绿色球2分，蓝色球3分，现在对同颜色连在一起的球有一个积分奖励规则当这个球与前面1个球颜色相同会给此球奖励1分，当这个球与前面2个球的颜色都相同会给此球奖励2分，以此类推，当这个球与前面3个球的颜色都相同会给此球奖励3分。现在请从前往后计算这串玻璃球的累计分数。其中红色玻璃球用字符r表示，绿色玻璃球用字符g表示，蓝色玻璃球用字符b 表示"
   ]
  },
  {
   "cell_type": "markdown",
   "metadata": {},
   "source": [
    "# 样例\n",
    "输入： rgb\n",
    "输出：  6\n",
    "\n",
    "输入: rrrggb 输出： 14"
   ]
  },
  {
   "cell_type": "markdown",
   "metadata": {},
   "source": []
  },
  {
   "cell_type": "code",
   "execution_count": 2,
   "metadata": {},
   "outputs": [
    {
     "ename": "SyntaxError",
     "evalue": "invalid syntax (1546778973.py, line 3)",
     "output_type": "error",
     "traceback": [
      "\u001b[0;36m  Cell \u001b[0;32mIn[2], line 3\u001b[0;36m\u001b[0m\n\u001b[0;31m    using namespace std;\u001b[0m\n\u001b[0m          ^\u001b[0m\n\u001b[0;31mSyntaxError\u001b[0m\u001b[0;31m:\u001b[0m invalid syntax\n"
     ]
    }
   ],
   "source": [
    "#include<iostream>\n",
    "#include<map>\n",
    "using namespace std;\n",
    "\n",
    "map<char,int> ma{{'r', 1}, {'g', 2}, {'b', 3}};\n",
    "int main()\n",
    "{\n",
    "    string s;\n",
    "    cin>>s;\n",
    "    int ans = 0;\n",
    "    int cnt=0;\n",
    "    char prev = 'a';\n",
    "    int n = s.size();\n",
    "    for(auto i=0; i< n;i++)\n",
    "    {\n",
    "        if(s[i]==prev)\n",
    "        {\n",
    "            cnt++;\n",
    "            ans+=ma[s[i]]+cnt;\n",
    "        }\n",
    "        else{\n",
    "            cnt = 0;\n",
    "            ans+=ma[s[i]]+cnt;\n",
    "            prev = s[i];\n",
    "        }\n",
    "    }\n",
    "    cout<<ans<<endl;\n",
    "}\n"
   ]
  }
 ],
 "metadata": {
  "kernelspec": {
   "display_name": "cloud-ai-lab",
   "language": "python",
   "name": "cloud-ai-lab"
  },
  "language_info": {
   "codemirror_mode": {
    "name": "ipython",
    "version": 3
   },
   "file_extension": ".py",
   "mimetype": "text/x-python",
   "name": "python",
   "nbconvert_exporter": "python",
   "pygments_lexer": "ipython3",
   "version": "3.10.11"
  }
 },
 "nbformat": 4,
 "nbformat_minor": 2
}
