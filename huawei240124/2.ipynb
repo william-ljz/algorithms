{
 "cells": [
  {
   "cell_type": "markdown",
   "metadata": {},
   "source": [
    "# 题目\n",
    "AI大模型学习大量的训练样本，通过大量参数拟合出样本背后复杂的高维概率密度分布关系。由于训练数据量越来越大，参数越来越多，模型越来越大，传统超级计算机算力和资源有限无法满足训练需求，假设可通过量了计算机来进行人模型训练现有简化后训练了任务模型列表 tasks， tasks[i] 表示第 i个子任务模型的算力需求，为了保证模型计算的SLA要求所有的子任务模型在T个时刻内完成计算。每个时刻，需按照给出子任务模型的算力需求列表( tasks )顺序调度到量了计算机并完成计算。任意时刻调度的多个了任务模型的算力需求总和不会超过量了计算机可承载的最人算力负荷请返回量了计算机需要提供的最低算力，可在T个时刻内计算完全部子任务模型"
   ]
  },
  {
   "cell_type": "markdown",
   "metadata": {},
   "source": []
  },
  {
   "cell_type": "code",
   "execution_count": null,
   "metadata": {
    "vscode": {
     "languageId": "plaintext"
    }
   },
   "outputs": [],
   "source": [
    "输入包括两行，第一行包含2个整数N，T，分别表示子任务模型列表长度，计算全部了任务模型的时刻要求第二行包含N个整数: tasks[1] tasks[2] tas\n",
    "(1) 1 <= T <= N <= 50000\n",
    "\n",
    "(2) 1 <= tasks[i] <= 500\n",
    "# 样例：\n",
    "10 5\n",
    "1 2 3 4 5 6 7 8 9 10 \\n\n",
    "输出： 15 \\n\n",
    "\n",
    "输入：\n",
    "6 3\n",
    "\n",
    "4 4 2 1 2 3 \\N\n",
    "\n",
    "输出\n",
    "\n",
    "6\n"
   ]
  },
  {
   "cell_type": "code",
   "execution_count": null,
   "metadata": {
    "vscode": {
     "languageId": "plaintext"
    }
   },
   "outputs": [],
   "source": [
    "#include<iostream>\n",
    "using namespace std;\n",
    "int a[50010];\n",
    "int t, n;\n",
    "bool check(int mid)\n",
    "{\n",
    "    int ans=1;\n",
    "    int res=mid;\n",
    "    for(int i=0;i<n;i++)\n",
    "    {\n",
    "        if(res>=a[i])res-=a[i];\n",
    "        else{\n",
    "            res=mid-a[i];\n",
    "            ans+=1;\n",
    "        }\n",
    "    }\n",
    "    return ans<=t;\n",
    "}\n",
    "int main()\n",
    "{\n",
    "    int l=0, r=500*50000;\n",
    "    cin>>n>>t;\n",
    "    for(int i=0; i<n; i++)\n",
    "    {\n",
    "        cin>>a[i];\n",
    "        l = max(l, a[i]);\n",
    "    }\n",
    "    while(l<r)\n",
    "    {    \n",
    "        int mid=(l+r)>>1;\n",
    "        if(check(mid)) r=mid;\n",
    "        else l=mid+1;\n",
    "    }\n",
    "    cout<<r<<endl;\n",
    "}"
   ]
  }
 ],
 "metadata": {
  "language_info": {
   "name": "python"
  }
 },
 "nbformat": 4,
 "nbformat_minor": 2
}
